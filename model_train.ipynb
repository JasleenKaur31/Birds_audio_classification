{
 "cells": [
  {
   "cell_type": "markdown",
   "metadata": {},
   "source": [
    "### Importing Libraries\n"
   ]
  },
  {
   "cell_type": "code",
   "execution_count": 1,
   "metadata": {},
   "outputs": [],
   "source": [
    "import cv2\n",
    "import numpy as np\n",
    "import os\n",
    "import pathlib\n",
    "import tensorflow as tf\n",
    "from tensorflow import keras\n",
    "from tensorflow.keras import datasets, layers, models\n",
    "from sklearn.metrics import classification_report"
   ]
  },
  {
   "cell_type": "markdown",
   "metadata": {},
   "source": [
    "### Loading Spectrograms"
   ]
  },
  {
   "cell_type": "code",
   "execution_count": 13,
   "metadata": {},
   "outputs": [
    {
     "name": "stdout",
     "output_type": "stream",
     "text": [
      "['CommonCuckoo', 'CommonKestrel', 'CommonRingedPlover', 'LittleOwl', 'NorthernRaven']\n",
      "{'CommonCuckoo': 0, 'CommonKestrel': 1, 'CommonRingedPlover': 2, 'LittleOwl': 3, 'NorthernRaven': 4}\n"
     ]
    }
   ],
   "source": [
    "import os\n",
    "x = [name for name in os.listdir('dataset/Spectrograms/')] \n",
    "print(x)\n",
    "files={}\n",
    "label_dic={}\n",
    "cnt = 0\n",
    "\n",
    "for i in x:\n",
    "    files[i]= list(data_dir.glob(f'{i}/*'))\n",
    "    label_dic[i]= cnt\n",
    "    cnt = cnt+1\n",
    "    \n",
    "print(label_dic)"
   ]
  },
  {
   "cell_type": "code",
   "execution_count": 14,
   "metadata": {},
   "outputs": [],
   "source": [
    "lt = [name for name in os.listdir('dataset/Spectrograms/')]\n",
    "image_files = pathlib.Path('dataset/Spectrograms/')\n",
    "gg = {}\n",
    "for i in lt:\n",
    "    gg[i]=list(image_files.glob(f'{i}/*'))"
   ]
  },
  {
   "cell_type": "code",
   "execution_count": 15,
   "metadata": {},
   "outputs": [
    {
     "data": {
      "text/plain": [
       "5"
      ]
     },
     "execution_count": 15,
     "metadata": {},
     "output_type": "execute_result"
    }
   ],
   "source": [
    "len(gg)"
   ]
  },
  {
   "cell_type": "code",
   "execution_count": 16,
   "metadata": {},
   "outputs": [],
   "source": [
    "x, y = [], []\n",
    "\n",
    "for bird , images in gg.items():\n",
    "    for image in images:\n",
    "        img = cv2.imread(str(image))\n",
    "        x.append(img)\n",
    "        y.append(label_dic[bird])"
   ]
  },
  {
   "cell_type": "markdown",
   "metadata": {},
   "source": [
    "### Spliting the dataset"
   ]
  },
  {
   "cell_type": "code",
   "execution_count": 17,
   "metadata": {},
   "outputs": [],
   "source": [
    "x = np.array(x)\n",
    "y = np.array(y)\n",
    "from sklearn.model_selection import train_test_split\n",
    "x_train, x_test, y_train, y_test = train_test_split(x, y, test_size=0.2, random_state=42)"
   ]
  },
  {
   "cell_type": "code",
   "execution_count": 22,
   "metadata": {},
   "outputs": [
    {
     "name": "stdout",
     "output_type": "stream",
     "text": [
      "Epoch 1/8\n",
      "26/26 [==============================] - 33s 1s/step - loss: 1.2723 - accuracy: 0.6219\n",
      "Epoch 2/8\n",
      "26/26 [==============================] - 33s 1s/step - loss: 0.7640 - accuracy: 0.7338\n",
      "Epoch 3/8\n",
      "26/26 [==============================] - 32s 1s/step - loss: 0.6591 - accuracy: 0.7562\n",
      "Epoch 4/8\n",
      "26/26 [==============================] - 33s 1s/step - loss: 0.6100 - accuracy: 0.7811\n",
      "Epoch 5/8\n",
      "26/26 [==============================] - 34s 1s/step - loss: 0.6055 - accuracy: 0.7799\n",
      "Epoch 6/8\n",
      "26/26 [==============================] - 34s 1s/step - loss: 0.5087 - accuracy: 0.7998\n",
      "Epoch 7/8\n",
      "26/26 [==============================] - 33s 1s/step - loss: 0.4617 - accuracy: 0.8358\n",
      "Epoch 8/8\n",
      "26/26 [==============================] - 32s 1s/step - loss: 0.3406 - accuracy: 0.8856\n"
     ]
    }
   ],
   "source": [
    "model = keras.Sequential([\n",
    "keras.layers.Conv2D(input_shape=(480,640,3),filters=32, kernel_size=3, strides=2,activation='relu'), \n",
    "keras.layers.BatchNormalization(), \n",
    "keras.layers.MaxPooling2D(),\n",
    "keras.layers.BatchNormalization(),\n",
    "keras.layers.MaxPooling2D(),\n",
    "keras.layers.BatchNormalization(),\n",
    "\n",
    "keras.layers.Conv2D(filters=64, kernel_size=3, strides=1, activation='relu'), \n",
    "keras.layers.BatchNormalization(),\n",
    "keras.layers.MaxPooling2D(),\n",
    "\n",
    "keras.layers.Conv2D(filters=128, kernel_size=3, strides=1, activation='relu'), \n",
    "keras.layers.BatchNormalization(),\n",
    "keras.layers.BatchNormalization(),\n",
    "keras.layers.Flatten(),\n",
    "keras.layers.Dense (256, activation='relu'),\n",
    "keras.layers.BatchNormalization(),\n",
    "keras.layers.Dropout(0.4),\n",
    "keras.layers.Dense (5, activation=\"softmax\"),\n",
    "])\n",
    "\n",
    "model.compile(optimizer= 'adam',\n",
    "              loss= tf.keras.losses.SparseCategoricalCrossentropy(from_logits = True),\n",
    "              metrics=['accuracy'])\n",
    "with tf.device('/CPU:0'):\n",
    "    model.fit(x_train, y_train, epochs=8)"
   ]
  },
  {
   "cell_type": "code",
   "execution_count": 29,
   "metadata": {},
   "outputs": [
    {
     "name": "stdout",
     "output_type": "stream",
     "text": [
      "7/7 [==============================] - 2s 300ms/step - loss: 0.5866 - accuracy: 0.7811\n"
     ]
    }
   ],
   "source": [
    "with tf.device('/CPU:0'):\n",
    "    model.evaluate(x_test, y_test)"
   ]
  },
  {
   "cell_type": "markdown",
   "metadata": {},
   "source": [
    "### Save the model"
   ]
  },
  {
   "cell_type": "code",
   "execution_count": null,
   "metadata": {},
   "outputs": [],
   "source": [
    "model.save('model.keras')"
   ]
  },
  {
   "cell_type": "markdown",
   "metadata": {},
   "source": [
    "### Calculating the Classification Report"
   ]
  },
  {
   "cell_type": "code",
   "execution_count": 31,
   "metadata": {},
   "outputs": [
    {
     "name": "stdout",
     "output_type": "stream",
     "text": [
      "7/7 [==============================] - 2s 324ms/step\n"
     ]
    }
   ],
   "source": [
    "with tf.device('/CPU: 0'):\n",
    "    y_pre = model.predict(x_test)"
   ]
  },
  {
   "cell_type": "code",
   "execution_count": 32,
   "metadata": {},
   "outputs": [],
   "source": [
    "y_pred = [np.argmax(i)for i in y_pre]"
   ]
  },
  {
   "cell_type": "code",
   "execution_count": 33,
   "metadata": {},
   "outputs": [
    {
     "name": "stdout",
     "output_type": "stream",
     "text": [
      "              precision    recall  f1-score   support\n",
      "\n",
      "           0       0.84      0.84      0.84        32\n",
      "           1       0.82      0.80      0.81        50\n",
      "           2       0.89      0.80      0.84        50\n",
      "           3       0.50      0.69      0.58        26\n",
      "           4       0.82      0.74      0.78        43\n",
      "\n",
      "    accuracy                           0.78       201\n",
      "   macro avg       0.77      0.78      0.77       201\n",
      "weighted avg       0.80      0.78      0.79       201\n",
      "\n"
     ]
    }
   ],
   "source": [
    "print(classification_report(y_pred, y_test))"
   ]
  }
 ],
 "metadata": {
  "kernelspec": {
   "display_name": "Python 3",
   "language": "python",
   "name": "python3"
  },
  "language_info": {
   "codemirror_mode": {
    "name": "ipython",
    "version": 3
   },
   "file_extension": ".py",
   "mimetype": "text/x-python",
   "name": "python",
   "nbconvert_exporter": "python",
   "pygments_lexer": "ipython3",
   "version": "3.10.4"
  },
  "orig_nbformat": 4
 },
 "nbformat": 4,
 "nbformat_minor": 2
}
